{
 "cells": [
  {
   "cell_type": "code",
   "execution_count": 54,
   "source": [
    "class TransE:\r\n",
    "    def load_data(self):\r\n",
    "            print('loading entity2id.txt ...')\r\n",
    "            with open(os.path.join('data', 'entity2id.txt')) as f:\r\n",
    "                self.__entity2id = {line.strip().split('\\t')[0]: int(line.strip().split('\\t')[1]) for line in f.readlines()}\r\n",
    "                self.__id2entity = {value:key for key,value in self.__entity2id.items()}\r\n",
    "\r\n",
    "\r\n",
    "            with open(os.path.join('data','relation2id.txt')) as f:\r\n",
    "                self.__relation2id = {line.strip().split('\\t')[0]: int(line.strip().split('\\t')[1]) for line in f.readlines()}\r\n",
    "                self.__id2relation = {value:key for key, value in self.__relation2id.items()}\r\n",
    "\r\n",
    "            def load_triple(self, triplefile):\r\n",
    "                triple_list = [] #[(head_id, relation_id, tail_id),...]\r\n",
    "                with open(os.path.join('data', triplefile)) as f:\r\n",
    "                    for line in f.readlines():\r\n",
    "                        line_list = line.strip().split('\\t')\r\n",
    "                        assert len(line_list) == 3\r\n",
    "                        headid = self.__entity2id[line_list[0]]\r\n",
    "                        relationid = self.__relation2id[line_list[1]]\r\n",
    "                        tailid = self.__entity2id[line_list[2]]\r\n",
    "                        triple_list.append((headid, relationid, tailid))\r\n",
    "                        self.__hr_t[(headid, relationid)].add(tailid)\r\n",
    "                        self.__tr_h[(tailid, relationid)].add(headid)\r\n",
    "                return triple_list\r\n",
    "\r\n",
    "TransE.load_data()"
   ],
   "outputs": [
    {
     "output_type": "error",
     "ename": "TypeError",
     "evalue": "load_data() missing 1 required positional argument: 'self'",
     "traceback": [
      "\u001b[1;31m---------------------------------------------------------------------------\u001b[0m",
      "\u001b[1;31mTypeError\u001b[0m                                 Traceback (most recent call last)",
      "\u001b[1;32m<ipython-input-54-cd1bfcbb539b>\u001b[0m in \u001b[0;36m<module>\u001b[1;34m\u001b[0m\n\u001b[0;32m     25\u001b[0m                 \u001b[1;32mreturn\u001b[0m \u001b[0mtriple_list\u001b[0m\u001b[1;33m\u001b[0m\u001b[1;33m\u001b[0m\u001b[0m\n\u001b[0;32m     26\u001b[0m \u001b[1;33m\u001b[0m\u001b[0m\n\u001b[1;32m---> 27\u001b[1;33m \u001b[0mTransE\u001b[0m\u001b[1;33m.\u001b[0m\u001b[0mload_data\u001b[0m\u001b[1;33m(\u001b[0m\u001b[1;33m)\u001b[0m\u001b[1;33m\u001b[0m\u001b[1;33m\u001b[0m\u001b[0m\n\u001b[0m",
      "\u001b[1;31mTypeError\u001b[0m: load_data() missing 1 required positional argument: 'self'"
     ]
    }
   ],
   "metadata": {}
  },
  {
   "cell_type": "code",
   "execution_count": 31,
   "source": [
    "import os\r\n",
    "\r\n",
    "train_path = os.path.join('data', \"train.txt\")\r\n",
    "valid_path = os.path.join('data', \"valid.txt\")\r\n",
    "test_path = os.path.join('data', \"test.txt\")\r\n",
    "entity2id, relation2id = create_mappings(train_path)\r\n",
    "train_set = FB15KDataset(train_path, entity2id, relation2id)"
   ],
   "outputs": [],
   "metadata": {}
  },
  {
   "cell_type": "code",
   "execution_count": 33,
   "source": [
    "from torch.utils import data as torch_data\r\n",
    "\r\n",
    "train_generator = torch_data.DataLoader(train_set, batch_size = 128)\r\n",
    "validation_set = FB15KDataset(valid_path, entity2id, relation2id)\r\n",
    "validation_generator = torch_data.DataLoader(validation_set, batch_size=64)\r\n",
    "test_set = FB15KDataset(test_path, entity2id, relation2id)\r\n",
    "test_generator = torch_data.DataLoader(test_set, batch_size=64)"
   ],
   "outputs": [],
   "metadata": {}
  },
  {
   "cell_type": "code",
   "execution_count": 46,
   "source": [
    "for local_heads, local_relations, local_tails in train_generator:\r\n",
    "    print(local_tails)"
   ],
   "outputs": [
    {
     "output_type": "stream",
     "name": "stdout",
     "text": [
      "tensor([ 1,  3,  5,  7,  9, 11])\n"
     ]
    }
   ],
   "metadata": {}
  },
  {
   "cell_type": "code",
   "execution_count": 42,
   "source": [
    "validation_set._to_idx('ww','q1')"
   ],
   "outputs": [
    {
     "output_type": "error",
     "ename": "TypeError",
     "evalue": "string indices must be integers",
     "traceback": [
      "\u001b[1;31m---------------------------------------------------------------------------\u001b[0m",
      "\u001b[1;31mTypeError\u001b[0m                                 Traceback (most recent call last)",
      "\u001b[1;32m<ipython-input-42-92dff83ebc48>\u001b[0m in \u001b[0;36m<module>\u001b[1;34m\u001b[0m\n\u001b[1;32m----> 1\u001b[1;33m \u001b[0mvalidation_set\u001b[0m\u001b[1;33m.\u001b[0m\u001b[0m_to_idx\u001b[0m\u001b[1;33m(\u001b[0m\u001b[1;34m'ww'\u001b[0m\u001b[1;33m,\u001b[0m\u001b[1;34m'q1'\u001b[0m\u001b[1;33m)\u001b[0m\u001b[1;33m\u001b[0m\u001b[1;33m\u001b[0m\u001b[0m\n\u001b[0m",
      "\u001b[1;32m<ipython-input-5-af16ef9d1fcc>\u001b[0m in \u001b[0;36m_to_idx\u001b[1;34m(key, mapping)\u001b[0m\n\u001b[0;32m     51\u001b[0m     \u001b[1;32mdef\u001b[0m \u001b[0m_to_idx\u001b[0m\u001b[1;33m(\u001b[0m\u001b[0mkey\u001b[0m\u001b[1;33m:\u001b[0m \u001b[0mstr\u001b[0m\u001b[1;33m,\u001b[0m \u001b[0mmapping\u001b[0m\u001b[1;33m:\u001b[0m \u001b[0mMapping\u001b[0m\u001b[1;33m)\u001b[0m \u001b[1;33m->\u001b[0m \u001b[0mint\u001b[0m\u001b[1;33m:\u001b[0m\u001b[1;33m\u001b[0m\u001b[1;33m\u001b[0m\u001b[0m\n\u001b[0;32m     52\u001b[0m         \u001b[1;32mtry\u001b[0m\u001b[1;33m:\u001b[0m\u001b[1;33m\u001b[0m\u001b[1;33m\u001b[0m\u001b[0m\n\u001b[1;32m---> 53\u001b[1;33m             \u001b[1;32mreturn\u001b[0m \u001b[0mmapping\u001b[0m\u001b[1;33m[\u001b[0m\u001b[0mkey\u001b[0m\u001b[1;33m]\u001b[0m\u001b[1;33m\u001b[0m\u001b[1;33m\u001b[0m\u001b[0m\n\u001b[0m\u001b[0;32m     54\u001b[0m         \u001b[1;32mexcept\u001b[0m \u001b[0mKeyError\u001b[0m\u001b[1;33m:\u001b[0m\u001b[1;33m\u001b[0m\u001b[1;33m\u001b[0m\u001b[0m\n\u001b[0;32m     55\u001b[0m             \u001b[1;32mreturn\u001b[0m \u001b[0mlen\u001b[0m\u001b[1;33m(\u001b[0m\u001b[0mmapping\u001b[0m\u001b[1;33m)\u001b[0m\u001b[1;33m\u001b[0m\u001b[1;33m\u001b[0m\u001b[0m\n",
      "\u001b[1;31mTypeError\u001b[0m: string indices must be integers"
     ]
    }
   ],
   "metadata": {}
  },
  {
   "cell_type": "code",
   "execution_count": null,
   "source": [],
   "outputs": [],
   "metadata": {}
  },
  {
   "cell_type": "code",
   "execution_count": 22,
   "source": [
    "create_mappings(train_path)"
   ],
   "outputs": [
    {
     "output_type": "execute_result",
     "data": {
      "text/plain": [
       "({'/m/director1': 0,\n",
       "  '/m/movie1': 1,\n",
       "  '/m/director2': 2,\n",
       "  '/m/movie2': 3,\n",
       "  '/m/director3': 4,\n",
       "  '/m/movie3': 5,\n",
       "  '/m/actor1': 6,\n",
       "  '/m/series1': 7,\n",
       "  '/m/actor2': 8,\n",
       "  '/m/series2': 9,\n",
       "  '/m/actor3': 10,\n",
       "  '/m/series': 11},\n",
       " {'/person/directorOf': 0, '/person/actorOf': 1})"
      ]
     },
     "metadata": {},
     "execution_count": 22
    }
   ],
   "metadata": {}
  },
  {
   "cell_type": "code",
   "execution_count": 18,
   "source": [
    "train_path"
   ],
   "outputs": [
    {
     "output_type": "execute_result",
     "data": {
      "text/plain": [
       "'data\\\\train.txt'"
      ]
     },
     "metadata": {},
     "execution_count": 18
    }
   ],
   "metadata": {}
  }
 ],
 "metadata": {
  "orig_nbformat": 4,
  "language_info": {
   "name": "python",
   "version": "3.8.3",
   "mimetype": "text/x-python",
   "codemirror_mode": {
    "name": "ipython",
    "version": 3
   },
   "pygments_lexer": "ipython3",
   "nbconvert_exporter": "python",
   "file_extension": ".py"
  },
  "kernelspec": {
   "name": "python3",
   "display_name": "Python 3.8.3 64-bit ('base': conda)"
  },
  "interpreter": {
   "hash": "46c0909a13c8f15bb24c49cd4e44ffb2b0942cd9a631d5f7d6780da769a76706"
  }
 },
 "nbformat": 4,
 "nbformat_minor": 2
}