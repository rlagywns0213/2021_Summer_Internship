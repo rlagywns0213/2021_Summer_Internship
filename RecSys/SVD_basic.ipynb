{
 "cells": [
  {
   "cell_type": "markdown",
   "metadata": {},
   "source": [
    "- R : M x n  행렬  <br>$$U\\sum V^T$$\n",
    "\n",
    "- 축소된 데이터를 활용하여 해당 사용자가 평가하지 않은 item에 대한 값을 예측하여 채워넣는 방식\n",
    "- RMSE ( R 과 특이값분해 수식 간의 차이)를 통해 평가하고 개선"
   ]
  },
  {
   "cell_type": "code",
   "execution_count": 9,
   "metadata": {
    "ExecuteTime": {
     "end_time": "2021-07-08T05:40:13.721656Z",
     "start_time": "2021-07-08T05:40:13.708654Z"
    }
   },
   "outputs": [
    {
     "output_type": "execute_result",
     "data": {
      "text/plain": [
       "array([[5., 3., 4., ..., 0., 0., 0.],\n",
       "       [4., 0., 0., ..., 0., 0., 0.],\n",
       "       [0., 0., 0., ..., 0., 0., 0.],\n",
       "       ...,\n",
       "       [5., 0., 0., ..., 0., 0., 0.],\n",
       "       [0., 0., 0., ..., 0., 0., 0.],\n",
       "       [0., 5., 0., ..., 0., 0., 0.]])"
      ]
     },
     "metadata": {},
     "execution_count": 9
    }
   ],
   "source": [
    "import numpy as np\n",
    "from sklearn.metrics import mean_squared_error\n",
    "import dataset\n",
    "\n",
    "data = dataset.Dataset()\n",
    "train = data.train\n",
    "test = data.test\n",
    "# R = np.array([[4, np.NaN, np.NaN, 2, np.NaN],\n",
    "#               [np.NaN, 5, np.NaN, 3, 1],\n",
    "#               [np.NaN, np.NaN, 3, 4, 4],\n",
    "#               [5, 2, 1, 2, np.NaN]])\n",
    "\n",
    "train"
   ]
  },
  {
   "cell_type": "code",
   "execution_count": 2,
   "metadata": {
    "ExecuteTime": {
     "end_time": "2021-07-08T05:40:13.736579Z",
     "start_time": "2021-07-08T05:40:13.723613Z"
    }
   },
   "outputs": [],
   "source": [
    "num_users, num_items = train.shape"
   ]
  },
  {
   "cell_type": "code",
   "execution_count": 3,
   "metadata": {
    "ExecuteTime": {
     "end_time": "2021-07-08T05:40:13.751539Z",
     "start_time": "2021-07-08T05:40:13.738574Z"
    }
   },
   "outputs": [
    {
     "output_type": "execute_result",
     "data": {
      "text/plain": [
       "(array([[ 0.67562969,  0.00440368],\n",
       "        [ 0.23826787, -0.08284665],\n",
       "        [ 0.35091276,  0.07118863],\n",
       "        ...,\n",
       "        [ 0.3124937 , -0.10394678],\n",
       "        [ 0.45936153,  0.10838712],\n",
       "        [-0.10685868, -0.08314122]]),\n",
       " array([[-0.04946614, -0.25048229, -0.57601247, ...,  0.1524334 ,\n",
       "         -0.28223697, -0.12594917],\n",
       "        [ 0.32539987, -0.74600221,  0.04396141, ...,  0.07833713,\n",
       "         -0.20062239, -0.13682047]]))"
      ]
     },
     "metadata": {},
     "execution_count": 3
    }
   ],
   "source": [
    "P = np.random.normal(scale=1.0/3, size=(num_users, 2))\n",
    "Q = np.random.normal(scale=1.0/3, size=(num_items, 2))\n",
    "P, Q.T"
   ]
  },
  {
   "cell_type": "code",
   "execution_count": 7,
   "metadata": {
    "ExecuteTime": {
     "end_time": "2021-07-08T05:46:15.422840Z",
     "start_time": "2021-07-08T05:46:15.271244Z"
    }
   },
   "outputs": [
    {
     "output_type": "stream",
     "name": "stdout",
     "text": [
      "iteration: 1, rmse: 2.458689\n",
      "iteration: 2, rmse: 1.167944\n",
      "iteration: 3, rmse: 1.025404\n",
      "iteration: 4, rmse: 0.982318\n",
      "iteration: 5, rmse: 0.958670\n",
      "iteration: 6, rmse: 0.942885\n",
      "iteration: 7, rmse: 0.931050\n",
      "iteration: 8, rmse: 0.921704\n",
      "iteration: 9, rmse: 0.914135\n",
      "iteration: 10, rmse: 0.907888\n",
      "iteration: 11, rmse: 0.902647\n",
      "iteration: 12, rmse: 0.898183\n",
      "iteration: 13, rmse: 0.894333\n",
      "iteration: 14, rmse: 0.890978\n",
      "iteration: 15, rmse: 0.888027\n",
      "iteration: 16, rmse: 0.885413\n",
      "iteration: 17, rmse: 0.883081\n",
      "iteration: 18, rmse: 0.880988\n",
      "iteration: 19, rmse: 0.879102\n",
      "iteration: 20, rmse: 0.877394\n",
      "iteration: 21, rmse: 0.875840\n",
      "iteration: 22, rmse: 0.874423\n",
      "iteration: 23, rmse: 0.873125\n",
      "iteration: 24, rmse: 0.871933\n",
      "iteration: 25, rmse: 0.870835\n",
      "iteration: 26, rmse: 0.869821\n",
      "iteration: 27, rmse: 0.868883\n",
      "iteration: 28, rmse: 0.868012\n",
      "iteration: 29, rmse: 0.867202\n",
      "iteration: 30, rmse: 0.866448\n",
      "iteration: 31, rmse: 0.865745\n",
      "iteration: 32, rmse: 0.865087\n",
      "iteration: 33, rmse: 0.864471\n",
      "iteration: 34, rmse: 0.863893\n",
      "iteration: 35, rmse: 0.863350\n",
      "iteration: 36, rmse: 0.862839\n",
      "iteration: 37, rmse: 0.862359\n",
      "iteration: 38, rmse: 0.861905\n",
      "iteration: 39, rmse: 0.861477\n",
      "iteration: 40, rmse: 0.861072\n",
      "iteration: 41, rmse: 0.860690\n",
      "iteration: 42, rmse: 0.860327\n",
      "iteration: 43, rmse: 0.859983\n",
      "iteration: 44, rmse: 0.859657\n",
      "iteration: 45, rmse: 0.859348\n",
      "iteration: 46, rmse: 0.859053\n",
      "iteration: 47, rmse: 0.858773\n",
      "iteration: 48, rmse: 0.858507\n",
      "iteration: 49, rmse: 0.858253\n",
      "iteration: 50, rmse: 0.858010\n",
      "iteration: 51, rmse: 0.857779\n",
      "iteration: 52, rmse: 0.857559\n",
      "iteration: 53, rmse: 0.857348\n",
      "iteration: 54, rmse: 0.857146\n",
      "iteration: 55, rmse: 0.856953\n",
      "iteration: 56, rmse: 0.856769\n",
      "iteration: 57, rmse: 0.856592\n",
      "iteration: 58, rmse: 0.856422\n",
      "iteration: 59, rmse: 0.856259\n",
      "iteration: 60, rmse: 0.856103\n",
      "iteration: 61, rmse: 0.855953\n",
      "iteration: 62, rmse: 0.855809\n",
      "iteration: 63, rmse: 0.855671\n",
      "iteration: 64, rmse: 0.855537\n",
      "iteration: 65, rmse: 0.855409\n",
      "iteration: 66, rmse: 0.855285\n",
      "iteration: 67, rmse: 0.855166\n",
      "iteration: 68, rmse: 0.855051\n",
      "iteration: 69, rmse: 0.854941\n",
      "iteration: 70, rmse: 0.854834\n",
      "iteration: 71, rmse: 0.854731\n",
      "iteration: 72, rmse: 0.854631\n",
      "iteration: 73, rmse: 0.854535\n",
      "iteration: 74, rmse: 0.854442\n",
      "iteration: 75, rmse: 0.854353\n",
      "iteration: 76, rmse: 0.854266\n",
      "iteration: 77, rmse: 0.854182\n",
      "iteration: 78, rmse: 0.854100\n",
      "iteration: 79, rmse: 0.854022\n",
      "iteration: 80, rmse: 0.853945\n",
      "iteration: 81, rmse: 0.853872\n",
      "iteration: 82, rmse: 0.853800\n",
      "iteration: 83, rmse: 0.853731\n",
      "iteration: 84, rmse: 0.853664\n",
      "iteration: 85, rmse: 0.853598\n",
      "iteration: 86, rmse: 0.853535\n",
      "iteration: 87, rmse: 0.853474\n",
      "iteration: 88, rmse: 0.853414\n",
      "iteration: 89, rmse: 0.853357\n",
      "iteration: 90, rmse: 0.853301\n",
      "iteration: 91, rmse: 0.853246\n",
      "iteration: 92, rmse: 0.853193\n",
      "iteration: 93, rmse: 0.853142\n",
      "iteration: 94, rmse: 0.853092\n",
      "iteration: 95, rmse: 0.853043\n",
      "iteration: 96, rmse: 0.852996\n",
      "iteration: 97, rmse: 0.852950\n",
      "iteration: 98, rmse: 0.852905\n",
      "iteration: 99, rmse: 0.852862\n",
      "iteration: 100, rmse: 0.852819\n",
      "iteration: 101, rmse: 0.852778\n",
      "iteration: 102, rmse: 0.852738\n",
      "iteration: 103, rmse: 0.852699\n",
      "iteration: 104, rmse: 0.852661\n",
      "iteration: 105, rmse: 0.852623\n",
      "iteration: 106, rmse: 0.852587\n",
      "iteration: 107, rmse: 0.852552\n",
      "iteration: 108, rmse: 0.852517\n",
      "iteration: 109, rmse: 0.852484\n",
      "iteration: 110, rmse: 0.852451\n",
      "iteration: 111, rmse: 0.852419\n",
      "iteration: 112, rmse: 0.852387\n",
      "iteration: 113, rmse: 0.852357\n",
      "iteration: 114, rmse: 0.852327\n",
      "iteration: 115, rmse: 0.852298\n",
      "iteration: 116, rmse: 0.852269\n",
      "iteration: 117, rmse: 0.852242\n",
      "iteration: 118, rmse: 0.852214\n",
      "iteration: 119, rmse: 0.852188\n",
      "iteration: 120, rmse: 0.852162\n",
      "iteration: 121, rmse: 0.852136\n",
      "iteration: 122, rmse: 0.852112\n",
      "iteration: 123, rmse: 0.852087\n",
      "iteration: 124, rmse: 0.852064\n",
      "iteration: 125, rmse: 0.852040\n",
      "iteration: 126, rmse: 0.852018\n",
      "iteration: 127, rmse: 0.851995\n",
      "iteration: 128, rmse: 0.851974\n",
      "iteration: 129, rmse: 0.851952\n",
      "iteration: 130, rmse: 0.851932\n",
      "iteration: 131, rmse: 0.851911\n",
      "iteration: 132, rmse: 0.851891\n",
      "iteration: 133, rmse: 0.851872\n",
      "iteration: 134, rmse: 0.851852\n",
      "iteration: 135, rmse: 0.851834\n",
      "iteration: 136, rmse: 0.851815\n",
      "iteration: 137, rmse: 0.851797\n",
      "iteration: 138, rmse: 0.851780\n",
      "iteration: 139, rmse: 0.851763\n",
      "iteration: 140, rmse: 0.851746\n",
      "iteration: 141, rmse: 0.851729\n",
      "iteration: 142, rmse: 0.851713\n",
      "iteration: 143, rmse: 0.851697\n",
      "iteration: 144, rmse: 0.851682\n",
      "iteration: 145, rmse: 0.851667\n",
      "iteration: 146, rmse: 0.851652\n",
      "iteration: 147, rmse: 0.851637\n",
      "iteration: 148, rmse: 0.851623\n",
      "iteration: 149, rmse: 0.851609\n",
      "iteration: 150, rmse: 0.851595\n",
      "iteration: 151, rmse: 0.851582\n",
      "iteration: 152, rmse: 0.851569\n",
      "iteration: 153, rmse: 0.851556\n",
      "iteration: 154, rmse: 0.851543\n",
      "iteration: 155, rmse: 0.851531\n",
      "iteration: 156, rmse: 0.851519\n",
      "iteration: 157, rmse: 0.851507\n",
      "iteration: 158, rmse: 0.851495\n",
      "iteration: 159, rmse: 0.851484\n",
      "iteration: 160, rmse: 0.851473\n",
      "iteration: 161, rmse: 0.851462\n",
      "iteration: 162, rmse: 0.851451\n",
      "iteration: 163, rmse: 0.851441\n",
      "iteration: 164, rmse: 0.851431\n",
      "iteration: 165, rmse: 0.851420\n",
      "iteration: 166, rmse: 0.851411\n",
      "iteration: 167, rmse: 0.851401\n",
      "iteration: 168, rmse: 0.851391\n",
      "iteration: 169, rmse: 0.851382\n",
      "iteration: 170, rmse: 0.851373\n",
      "iteration: 171, rmse: 0.851364\n",
      "iteration: 172, rmse: 0.851355\n",
      "iteration: 173, rmse: 0.851347\n",
      "iteration: 174, rmse: 0.851338\n",
      "iteration: 175, rmse: 0.851330\n",
      "iteration: 176, rmse: 0.851322\n",
      "iteration: 177, rmse: 0.851314\n",
      "iteration: 178, rmse: 0.851306\n",
      "iteration: 179, rmse: 0.851298\n",
      "iteration: 180, rmse: 0.851291\n",
      "iteration: 181, rmse: 0.851283\n",
      "iteration: 182, rmse: 0.851276\n",
      "iteration: 183, rmse: 0.851269\n",
      "iteration: 184, rmse: 0.851262\n",
      "iteration: 185, rmse: 0.851255\n",
      "iteration: 186, rmse: 0.851248\n",
      "iteration: 187, rmse: 0.851242\n",
      "iteration: 188, rmse: 0.851235\n",
      "iteration: 189, rmse: 0.851229\n",
      "iteration: 190, rmse: 0.851222\n",
      "iteration: 191, rmse: 0.851216\n",
      "iteration: 192, rmse: 0.851210\n",
      "iteration: 193, rmse: 0.851204\n",
      "iteration: 194, rmse: 0.851198\n",
      "iteration: 195, rmse: 0.851192\n",
      "iteration: 196, rmse: 0.851187\n",
      "iteration: 197, rmse: 0.851181\n",
      "iteration: 198, rmse: 0.851175\n",
      "iteration: 199, rmse: 0.851170\n",
      "iteration: 200, rmse: 0.851165\n",
      "time : 248.6797 sec\n"
     ]
    }
   ],
   "source": [
    "from timeit import default_timer as Timer\n",
    "\n",
    "\n",
    "# 실제 R 행렬과 예측 행렬의 오차를 구하는 함수\n",
    "def calculate_rmse(R, P, Q, non_zeros):\n",
    "    error = 0\n",
    "\n",
    "    full_pred_matrix = np.dot(P, Q.T)\n",
    "\n",
    "    # 여기서 non_zeros는 아래 함수에서 확인할 수 있다.\n",
    "    x_non_zero_ind = [non_zeros[0] for non_zeros in non_zeros]\n",
    "    y_non_zero_ind = [non_zeros[1] for non_zeros in non_zeros]\n",
    "\n",
    "    # 원 행렬 R에서 0이 아닌 값들만 추출한다.\n",
    "    R_non_zeros = R[x_non_zero_ind, y_non_zero_ind]\n",
    "\n",
    "    # 예측 행렬에서 원 행렬 R에서 0이 아닌 위치의 값들만 추출하여 저장한다.\n",
    "    full_pred_matrix_non_zeros = full_pred_matrix[x_non_zero_ind, y_non_zero_ind]\n",
    "\n",
    "    mse = mean_squared_error(R_non_zeros, full_pred_matrix_non_zeros)\n",
    "    rmse = np.sqrt(mse)\n",
    "\n",
    "    return rmse\n",
    "\n",
    "\n",
    "def matrix_factorization(R, K, epochs=200, learning_rate=0.01, r_lambda=0.01):\n",
    "    num_users, num_items = R.shape\n",
    "\n",
    "    np.random.seed(1)\n",
    "    P = np.random.normal(scale=1.0/K, size=(num_users, K))\n",
    "    Q = np.random.normal(scale=1.0/K, size=(num_items, K))\n",
    "\n",
    "    # R>0인 행 위치, 열 위치, 값을 non_zeros 리스트에 저장한다.\n",
    "    non_zeros = [ (i, j, R[i, j]) for i in range(num_users)\n",
    "                  for j in range(num_items) if R[i, j] > 0 ]\n",
    "\n",
    "    # SGD 기법으로 P, Q 매트릭스를 업데이트 함\n",
    "    start = Timer()\n",
    "    for epoch in range(epochs):\n",
    "        for i, j, r in non_zeros:\n",
    "            # 잔차 구함\n",
    "            eij = r - np.dot(P[i, :], Q[j, :].T)\n",
    "\n",
    "            # Regulation을 반영한 SGD 업데이터 적용\n",
    "            P[i, :] = P[i, :] + learning_rate*(eij * Q[j, :] - r_lambda*P[i, :])\n",
    "            Q[j, :] = Q[j, :] + learning_rate*(eij * P[i, :] - r_lambda*Q[j, :])\n",
    "\n",
    "        rmse = calculate_rmse(R, P, Q, non_zeros)\n",
    "        print(\"iteration: {0}, rmse: {1:4f}\".format(epoch+1, rmse))\n",
    "    print(\"time : %.4f sec\" % (Timer() - start) )\n",
    "    return P, Q\n",
    "\n",
    "P, Q = matrix_factorization(train, K=3)"
   ]
  },
  {
   "cell_type": "code",
   "execution_count": 8,
   "metadata": {
    "ExecuteTime": {
     "end_time": "2021-07-08T05:46:20.042252Z",
     "start_time": "2021-07-08T05:46:20.035238Z"
    }
   },
   "outputs": [
    {
     "output_type": "stream",
     "name": "stdout",
     "text": [
      "[[3.67347365 3.06902771 2.85075282 ... 1.26976909 3.52520884 3.10706821]\n [3.91728923 3.24960057 2.39614183 ... 1.59080193 3.60576889 3.02842483]\n [3.25980842 2.84034745 3.06312458 ... 0.90169318 3.02154634 2.8093167 ]\n ...\n [4.07678897 3.47331502 3.18299862 ... 1.38236724 3.75745869 3.33137258]\n [4.55635861 4.12289109 3.43730526 ... 1.51653082 3.58418456 3.20871579]\n [3.53604488 3.28832294 4.08346133 ... 0.64506516 3.02850401 3.04551248]]\n"
     ]
    }
   ],
   "source": [
    "pred_matrix = np.dot(P, Q.T)\n",
    "print(pred_matrix)"
   ]
  },
  {
   "cell_type": "code",
   "execution_count": null,
   "metadata": {},
   "outputs": [],
   "source": []
  }
 ],
 "metadata": {
  "kernelspec": {
   "name": "python3",
   "display_name": "Python 3.8.3 64-bit ('base': conda)"
  },
  "language_info": {
   "codemirror_mode": {
    "name": "ipython",
    "version": 3
   },
   "file_extension": ".py",
   "mimetype": "text/x-python",
   "name": "python",
   "nbconvert_exporter": "python",
   "pygments_lexer": "ipython3",
   "version": "3.8.3"
  },
  "toc": {
   "base_numbering": 1,
   "nav_menu": {},
   "number_sections": true,
   "sideBar": true,
   "skip_h1_title": false,
   "title_cell": "Table of Contents",
   "title_sidebar": "Contents",
   "toc_cell": false,
   "toc_position": {},
   "toc_section_display": true,
   "toc_window_display": false
  },
  "interpreter": {
   "hash": "46c0909a13c8f15bb24c49cd4e44ffb2b0942cd9a631d5f7d6780da769a76706"
  }
 },
 "nbformat": 4,
 "nbformat_minor": 4
}