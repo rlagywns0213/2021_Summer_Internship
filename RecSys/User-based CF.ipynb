{
 "cells": [
  {
   "source": [
    "# Collaborative filtering\n",
    "\n",
    "- User-based CF"
   ],
   "cell_type": "markdown",
   "metadata": {}
  },
  {
   "cell_type": "code",
   "execution_count": 1,
   "metadata": {
    "ExecuteTime": {
     "end_time": "2021-07-10T13:18:20.959054Z",
     "start_time": "2021-07-10T13:18:18.793837Z"
    }
   },
   "outputs": [],
   "source": [
    "import dataset\n",
    "import numpy as np\n",
    "import pandas as pd\n",
    "from sklearn.metrics.pairwise import cosine_similarity\n",
    "from sklearn.metrics import mean_squared_error\n",
    "\n",
    "data = dataset.Dataset()\n",
    "train = data.train\n",
    "test = data.test\n",
    "item = data.item"
   ]
  },
  {
   "cell_type": "code",
   "execution_count": 2,
   "metadata": {},
   "outputs": [
    {
     "output_type": "execute_result",
     "data": {
      "text/plain": [
       "(943, 943)"
      ]
     },
     "metadata": {},
     "execution_count": 2
    }
   ],
   "source": [
    "#Creates cosine similarity matrices for users and movies. \n",
    "user_similarity = cosine_similarity(train)\n",
    "user_similarity.shape"
   ]
  },
  {
   "cell_type": "code",
   "execution_count": 4,
   "metadata": {},
   "outputs": [],
   "source": [
    "## 사람마다 평균 높게 주는 사람 각기 다르므로, bias 제거해주기 위함\n",
    "mean_user_rating = train.mean(axis=1)[:, np.newaxis] \n",
    "ratings_diff = train - mean_user_rating\n",
    "user_pred = mean_user_rating + user_similarity.dot(ratings_diff) / np.array([user_similarity.sum(axis=1)]).T"
   ]
  },
  {
   "cell_type": "code",
   "execution_count": 5,
   "metadata": {},
   "outputs": [
    {
     "output_type": "stream",
     "name": "stdout",
     "text": [
      "Collaborative Filtering RMSE\nUser-based:  2.720442982119774\n"
     ]
    }
   ],
   "source": [
    "from math import sqrt\n",
    "#Root Mean Squared Error for validation.\n",
    "def rmse(pred, test):\n",
    "    pred = pred[test.nonzero()].flatten() \n",
    "    test = test[test.nonzero()].flatten()\n",
    "    return sqrt(mean_squared_error(pred, test))\n",
    "\n",
    "print(\"Collaborative Filtering RMSE\")\n",
    "print('User-based: ', rmse(user_pred, train)) "
   ]
  },
  {
   "source": [
    "# k_recommend"
   ],
   "cell_type": "markdown",
   "metadata": {}
  },
  {
   "cell_type": "code",
   "execution_count": 3,
   "metadata": {},
   "outputs": [],
   "source": [
    "def user_k_recommend(user_id,k):\n",
    "    list=[]\n",
    "    for index, j in enumerate(user_pred[user_id-1]):\n",
    "        list.append((index+1,j))\n",
    "    movie_sim = pd.DataFrame(list, columns=['movie id','similarity'])\n",
    "    result_pd = pd.merge(movie_sim,item.iloc[:,:2], on='movie id')\n",
    "    return result_pd.sort_values('similarity', ascending=False)[:k]['movie title']"
   ]
  },
  {
   "cell_type": "code",
   "execution_count": 6,
   "metadata": {},
   "outputs": [
    {
     "output_type": "execute_result",
     "data": {
      "text/plain": [
       "257              Contact (1997)\n",
       "49             Star Wars (1977)\n",
       "299        Air Force One (1997)\n",
       "301    L.A. Confidential (1997)\n",
       "287               Scream (1996)\n",
       "Name: movie title, dtype: object"
      ]
     },
     "metadata": {},
     "execution_count": 6
    }
   ],
   "source": [
    "user_k_recommend(3,5)"
   ]
  }
 ],
 "metadata": {
  "kernelspec": {
   "name": "python3",
   "display_name": "Python 3.8.3 64-bit ('base': conda)"
  },
  "language_info": {
   "codemirror_mode": {
    "name": "ipython",
    "version": 3
   },
   "file_extension": ".py",
   "mimetype": "text/x-python",
   "name": "python",
   "nbconvert_exporter": "python",
   "pygments_lexer": "ipython3",
   "version": "3.8.3"
  },
  "toc": {
   "base_numbering": 1,
   "nav_menu": {},
   "number_sections": true,
   "sideBar": true,
   "skip_h1_title": false,
   "title_cell": "Table of Contents",
   "title_sidebar": "Contents",
   "toc_cell": false,
   "toc_position": {},
   "toc_section_display": true,
   "toc_window_display": false
  },
  "interpreter": {
   "hash": "46c0909a13c8f15bb24c49cd4e44ffb2b0942cd9a631d5f7d6780da769a76706"
  }
 },
 "nbformat": 4,
 "nbformat_minor": 4
}